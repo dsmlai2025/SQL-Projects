{
 "cells": [
  {
   "cell_type": "code",
   "execution_count": 2,
   "id": "796c792c-4354-43e2-84b6-6e84c691d030",
   "metadata": {},
   "outputs": [],
   "source": [
    "import pandas as pd\n",
    "\n",
    "# Load CSVs\n",
    "df_trains = pd.read_csv('Indian Railways/trains.csv')\n",
    "df_stations = pd.read_csv('Indian Railways/stations.csv')\n",
    "df_bookings = pd.read_csv('Indian Railways/bookings.csv')\n",
    "df_tickets = pd.read_csv('Indian Railways/tickets.csv')\n",
    "df_passengers = pd.read_csv('Indian Railways/passengers.csv')"
   ]
  },
  {
   "cell_type": "code",
   "execution_count": 3,
   "id": "6fe475c2-5e98-4913-afb1-bc4a4c99d8fd",
   "metadata": {},
   "outputs": [
    {
     "name": "stdout",
     "output_type": "stream",
     "text": [
      "All trains:\n",
      "    train_id              train_name train_type  total_coaches  seat_capacity\n",
      "0          1  Sampark Kranti Express    Express             10            581\n",
      "1          2         Gatiman Express    Express             12            404\n",
      "2          3  Sampark Kranti Express      Local             18            389\n",
      "3          4        Humsafar Express  Superfast             10            330\n",
      "4          5        Shatabdi Express    Express             13            817\n",
      "5          6        Humsafar Express    Express             18            503\n",
      "6          7    Jan Shatabdi Express      Local             18            729\n",
      "7          8         Gatiman Express  Superfast             19            584\n",
      "8          9        Rajdhani Express    Express             16            648\n",
      "9         10           Tejas Express    Express             13            644\n",
      "10        11        Shatabdi Express    Express             16            399\n",
      "11        12      Garib Rath Express  Superfast             19            570\n",
      "12        13        Rajdhani Express      Local             17            849\n",
      "13        14        Shatabdi Express  Superfast             11            865\n",
      "14        15           Tejas Express      Local             19            670\n",
      "15        16        Humsafar Express    Express             11            346\n",
      "16        17  Sampark Kranti Express    Express             14            381\n",
      "17        18         Gatiman Express    Express             16            584\n",
      "18        19        Maharaja Express      Local             15            466\n",
      "19        20      Garib Rath Express  Superfast             13            986\n",
      "20        21           Tejas Express      Local             20            963\n",
      "21        22        Shatabdi Express      Local             20            475\n",
      "22        23            Deccan Queen      Local             13            467\n",
      "23        24        Maharaja Express  Superfast             14            955\n",
      "24        25    Jan Shatabdi Express      Local             13            632\n",
      "25        26        Rajdhani Express    Express             10            623\n",
      "26        27    Vande Bharat Express  Superfast             11            516\n",
      "27        28        Humsafar Express      Local             15            517\n",
      "28        29  Sampark Kranti Express  Superfast             16            958\n",
      "29        30        Maharaja Express    Express             14            442\n",
      "30        31         Gatiman Express      Local             18            851\n",
      "31        32           Tejas Express      Local             19            738\n",
      "32        33        Humsafar Express  Superfast             15            524\n",
      "33        34         Duronto Express      Local             17            393\n",
      "34        35        Rajdhani Express    Express             12            942\n",
      "35        36         Duronto Express      Local             16            910\n",
      "36        37        Shatabdi Express  Superfast             16            910\n",
      "37        38        Maharaja Express      Local             14            866\n",
      "38        39        Rajdhani Express      Local             11            998\n",
      "39        40            Deccan Queen  Superfast             20            648\n",
      "40        41        Shatabdi Express  Superfast             16            461\n",
      "41        42        Maharaja Express    Express             14            812\n",
      "42        43         Duronto Express      Local             11            940\n",
      "43        44           Tejas Express      Local             18            923\n",
      "44        45         Gatiman Express    Express             15            465\n",
      "45        46            Deccan Queen      Local             10            913\n",
      "46        47      Garib Rath Express  Superfast             10            414\n",
      "47        48      Garib Rath Express  Superfast             13            359\n",
      "48        49         Gatiman Express      Local             11            387\n",
      "49        50    Jan Shatabdi Express  Superfast             11            845\n"
     ]
    }
   ],
   "source": [
    "# 1. Select * from trains\n",
    "print(\"All trains:\")\n",
    "print(df_trains)\n",
    "\n"
   ]
  },
  {
   "cell_type": "code",
   "execution_count": 4,
   "id": "43f74db8-6221-496e-af54-6867bc3df48a",
   "metadata": {},
   "outputs": [
    {
     "name": "stdout",
     "output_type": "stream",
     "text": [
      "\n",
      "Total number of stations:\n",
      "20\n"
     ]
    }
   ],
   "source": [
    "# 2. Total number of stations\n",
    "print(\"\\nTotal number of stations:\")\n",
    "print(len(df_stations))"
   ]
  },
  {
   "cell_type": "code",
   "execution_count": 5,
   "id": "382c6e34-0fce-497e-9f64-088c95cf0732",
   "metadata": {},
   "outputs": [
    {
     "name": "stdout",
     "output_type": "stream",
     "text": [
      "\n",
      "Trains running from New Delhi to Mumbai Central:\n",
      "                train_name train_type  train_id\n",
      "0   Sampark Kranti Express    Express         1\n",
      "1          Gatiman Express    Express         2\n",
      "2   Sampark Kranti Express      Local         3\n",
      "3         Humsafar Express  Superfast         4\n",
      "4         Shatabdi Express    Express         5\n",
      "5         Humsafar Express    Express         6\n",
      "6     Jan Shatabdi Express      Local         7\n",
      "8         Rajdhani Express    Express         9\n",
      "9            Tejas Express    Express        10\n",
      "12        Rajdhani Express      Local        13\n",
      "15        Humsafar Express    Express        16\n",
      "16  Sampark Kranti Express    Express        17\n",
      "18        Maharaja Express      Local        19\n",
      "19      Garib Rath Express  Superfast        20\n",
      "21        Shatabdi Express      Local        22\n",
      "23        Maharaja Express  Superfast        24\n",
      "28  Sampark Kranti Express  Superfast        29\n",
      "40        Shatabdi Express  Superfast        41\n",
      "43           Tejas Express      Local        44\n",
      "45            Deccan Queen      Local        46\n",
      "49    Jan Shatabdi Express  Superfast        50\n"
     ]
    }
   ],
   "source": [
    "# 3. Trains running on route New Delhi to Mumbai Central\n",
    "# Get station ids for source and destination\n",
    "source_id = df_stations.loc[df_stations['station_name'] == 'New Delhi', 'station_id'].values[0]\n",
    "dest_id = df_stations.loc[df_stations['station_name'] == 'Mumbai Central', 'station_id'].values[0]\n",
    "\n",
    "# Filter bookings on route\n",
    "route_bookings = df_bookings[\n",
    "    (df_bookings['source_station_id'] == source_id) &\n",
    "    (df_bookings['destination_station_id'] == dest_id)\n",
    "]\n",
    "\n",
    "# Join with trains to get train info, use drop_duplicates for distinct\n",
    "route_trains = df_trains[df_trains['train_id'].isin(route_bookings['train_id'])]\n",
    "print(\"\\nTrains running from New Delhi to Mumbai Central:\")\n",
    "print(route_trains[['train_name', 'train_type', 'train_id']].drop_duplicates())\n",
    "\n"
   ]
  },
  {
   "cell_type": "code",
   "execution_count": 6,
   "id": "29d67f34-d8fa-48c1-b349-32aad8494541",
   "metadata": {},
   "outputs": [
    {
     "name": "stdout",
     "output_type": "stream",
     "text": [
      "\n",
      "Bookings with ticket price > 450:\n",
      "       booking_id  passenger_id  train_id journey_date  fare_amount\n",
      "17412        8726           384        35   2025-06-20       499.95\n",
      "2668         1351          3088        15   2025-08-28       499.92\n",
      "4975         2532          3821        26   2025-07-26       499.90\n",
      "11448        5762          4127        45   2025-01-12       499.89\n",
      "1907          981          2050         7   2025-08-12       499.86\n",
      "...           ...           ...       ...          ...          ...\n",
      "19046        9539          3084        13   2025-07-22       450.16\n",
      "2634         1338          3885        33   2025-07-24       450.11\n",
      "10455        5244          2322        29   2025-06-15       450.10\n",
      "1107          547          3984         8   2025-01-13       450.02\n",
      "14506        7318           684         5   2025-04-09       450.01\n",
      "\n",
      "[2238 rows x 5 columns]\n"
     ]
    }
   ],
   "source": [
    "# 4. Bookings with ticket price > 450\n",
    "bookings_tickets = pd.merge(df_bookings, df_tickets, on='booking_id')\n",
    "high_price_bookings = bookings_tickets[bookings_tickets['fare_amount'] > 450]\n",
    "high_price_bookings_sorted = high_price_bookings.sort_values('fare_amount', ascending=False)\n",
    "print(\"\\nBookings with ticket price > 450:\")\n",
    "print(high_price_bookings_sorted[['booking_id', 'passenger_id', 'train_id', 'journey_date', 'fare_amount']])"
   ]
  },
  {
   "cell_type": "code",
   "execution_count": 7,
   "id": "4477af68-3b19-4e8d-a7a9-3dc25e83ee39",
   "metadata": {},
   "outputs": [
    {
     "name": "stdout",
     "output_type": "stream",
     "text": [
      "\n",
      "Total tickets booked for train_id=23: 180\n"
     ]
    }
   ],
   "source": [
    "# 5. Total tickets booked for train_id = 23\n",
    "count_tickets_23 = len(df_bookings[df_bookings['train_id'] == 23])\n",
    "print(\"\\nTotal tickets booked for train_id=23:\", count_tickets_23)\n",
    "\n"
   ]
  },
  {
   "cell_type": "code",
   "execution_count": 8,
   "id": "1e1a7839-ecad-4661-ba3f-60e2b0a79807",
   "metadata": {},
   "outputs": [
    {
     "name": "stdout",
     "output_type": "stream",
     "text": [
      "\n",
      "Distinct train types:\n",
      "['Express' 'Local' 'Superfast']\n"
     ]
    }
   ],
   "source": [
    "# 6. Distinct train types\n",
    "print(\"\\nDistinct train types:\")\n",
    "print(df_trains['train_type'].unique())\n",
    "\n"
   ]
  },
  {
   "cell_type": "code",
   "execution_count": 9,
   "id": "51886a0f-263f-4d00-a30a-ec50bd82c5d7",
   "metadata": {},
   "outputs": [
    {
     "name": "stdout",
     "output_type": "stream",
     "text": [
      "\n",
      "Average ticket price: 274.28716399999996\n"
     ]
    }
   ],
   "source": [
    "# 7. Average ticket price for all bookings\n",
    "avg_ticket_price = df_tickets['fare_amount'].mean()\n",
    "print(\"\\nAverage ticket price:\", avg_ticket_price)\n",
    "\n"
   ]
  },
  {
   "cell_type": "code",
   "execution_count": 10,
   "id": "73941609-d74c-4d1d-8c91-dfe82cd6ce16",
   "metadata": {},
   "outputs": [
    {
     "name": "stdout",
     "output_type": "stream",
     "text": [
      "\n",
      "Trains departing from Mumbai Central:\n",
      "    train_id              train_name train_type    station_name\n",
      "0          1  Sampark Kranti Express    Express  Mumbai Central\n",
      "1          2         Gatiman Express    Express  Mumbai Central\n",
      "2          3  Sampark Kranti Express      Local  Mumbai Central\n",
      "3          4        Humsafar Express  Superfast  Mumbai Central\n",
      "4          5        Shatabdi Express    Express  Mumbai Central\n",
      "5          6        Humsafar Express    Express  Mumbai Central\n",
      "6          7    Jan Shatabdi Express      Local  Mumbai Central\n",
      "7          8         Gatiman Express  Superfast  Mumbai Central\n",
      "8          9        Rajdhani Express    Express  Mumbai Central\n",
      "9         10           Tejas Express    Express  Mumbai Central\n",
      "10        11        Shatabdi Express    Express  Mumbai Central\n",
      "11        12      Garib Rath Express  Superfast  Mumbai Central\n",
      "12        13        Rajdhani Express      Local  Mumbai Central\n",
      "13        14        Shatabdi Express  Superfast  Mumbai Central\n",
      "14        15           Tejas Express      Local  Mumbai Central\n",
      "15        16        Humsafar Express    Express  Mumbai Central\n",
      "16        17  Sampark Kranti Express    Express  Mumbai Central\n",
      "17        18         Gatiman Express    Express  Mumbai Central\n",
      "18        19        Maharaja Express      Local  Mumbai Central\n",
      "19        20      Garib Rath Express  Superfast  Mumbai Central\n",
      "20        21           Tejas Express      Local  Mumbai Central\n",
      "21        22        Shatabdi Express      Local  Mumbai Central\n",
      "22        23            Deccan Queen      Local  Mumbai Central\n",
      "23        24        Maharaja Express  Superfast  Mumbai Central\n",
      "24        25    Jan Shatabdi Express      Local  Mumbai Central\n",
      "25        26        Rajdhani Express    Express  Mumbai Central\n",
      "26        27    Vande Bharat Express  Superfast  Mumbai Central\n",
      "27        28        Humsafar Express      Local  Mumbai Central\n",
      "28        29  Sampark Kranti Express  Superfast  Mumbai Central\n",
      "29        30        Maharaja Express    Express  Mumbai Central\n",
      "30        31         Gatiman Express      Local  Mumbai Central\n",
      "31        32           Tejas Express      Local  Mumbai Central\n",
      "32        33        Humsafar Express  Superfast  Mumbai Central\n",
      "33        34         Duronto Express      Local  Mumbai Central\n",
      "34        35        Rajdhani Express    Express  Mumbai Central\n",
      "35        36         Duronto Express      Local  Mumbai Central\n",
      "36        37        Shatabdi Express  Superfast  Mumbai Central\n",
      "37        38        Maharaja Express      Local  Mumbai Central\n",
      "38        39        Rajdhani Express      Local  Mumbai Central\n",
      "39        40            Deccan Queen  Superfast  Mumbai Central\n",
      "40        41        Shatabdi Express  Superfast  Mumbai Central\n",
      "41        42        Maharaja Express    Express  Mumbai Central\n",
      "42        43         Duronto Express      Local  Mumbai Central\n",
      "43        44           Tejas Express      Local  Mumbai Central\n",
      "44        45         Gatiman Express    Express  Mumbai Central\n",
      "45        46            Deccan Queen      Local  Mumbai Central\n",
      "46        47      Garib Rath Express  Superfast  Mumbai Central\n",
      "47        48      Garib Rath Express  Superfast  Mumbai Central\n",
      "48        49         Gatiman Express      Local  Mumbai Central\n",
      "49        50    Jan Shatabdi Express  Superfast  Mumbai Central\n"
     ]
    }
   ],
   "source": [
    "# 8. Trains departing from Mumbai Central\n",
    "source_id_mumbai = df_stations.loc[df_stations['station_name'] == 'Mumbai Central', 'station_id'].values[0]\n",
    "bookings_from_mumbai = df_bookings[df_bookings['source_station_id'] == source_id_mumbai]\n",
    "trains_from_mumbai = df_trains[df_trains['train_id'].isin(bookings_from_mumbai['train_id'])]\n",
    "# Add station name column\n",
    "trains_from_mumbai = trains_from_mumbai.copy()\n",
    "trains_from_mumbai['station_name'] = 'Mumbai Central'\n",
    "print(\"\\nTrains departing from Mumbai Central:\")\n",
    "print(trains_from_mumbai[['train_id', 'train_name', 'train_type', 'station_name']].drop_duplicates())\n",
    "\n"
   ]
  },
  {
   "cell_type": "code",
   "execution_count": 11,
   "id": "9096e950-6b8e-437a-b247-42306db47068",
   "metadata": {},
   "outputs": [
    {
     "name": "stdout",
     "output_type": "stream",
     "text": [
      "\n",
      "Total passengers traveled in last month: 1163\n"
     ]
    }
   ],
   "source": [
    "# 9. Total passengers who traveled in last month\n",
    "# Assuming 'journey_date' is datetime string compatible\n",
    "df_bookings['journey_date'] = pd.to_datetime(df_bookings['journey_date'])\n",
    "last_month = pd.Timestamp.today() - pd.DateOffset(months=1)\n",
    "recent_passengers = df_bookings[(df_bookings['journey_date'] < pd.Timestamp.today()) & (df_bookings['journey_date'] >= last_month)]\n",
    "print(\"\\nTotal passengers traveled in last month:\", len(recent_passengers))\n"
   ]
  },
  {
   "cell_type": "code",
   "execution_count": 12,
   "id": "5a471acc-5e2b-492d-9f60-35f2f8012ecc",
   "metadata": {},
   "outputs": [
    {
     "name": "stdout",
     "output_type": "stream",
     "text": [
      "\n",
      "Average ticket price per train type:\n",
      "train_type\n",
      "Local        276.744580\n",
      "Superfast    273.893324\n",
      "Express      271.385180\n",
      "Name: fare_amount, dtype: float64\n"
     ]
    }
   ],
   "source": [
    "\n",
    "# 10. Average ticket price per train type\n",
    "merged = pd.merge(df_bookings, df_tickets, on='booking_id')\n",
    "merged = pd.merge(merged, df_trains[['train_id', 'train_type']], on='train_id')\n",
    "avg_price_by_type = merged.groupby('train_type')['fare_amount'].mean().sort_values(ascending=False)\n",
    "print(\"\\nAverage ticket price per train type:\")\n",
    "print(avg_price_by_type)"
   ]
  },
  {
   "cell_type": "code",
   "execution_count": null,
   "id": "0fdd3508-8408-484d-9af5-383fb2600e08",
   "metadata": {},
   "outputs": [],
   "source": []
  },
  {
   "cell_type": "code",
   "execution_count": null,
   "id": "799f297a-ba97-4ad5-9eeb-a4f9861af439",
   "metadata": {},
   "outputs": [],
   "source": []
  },
  {
   "cell_type": "code",
   "execution_count": null,
   "id": "6bf28b2f-2ce5-4b06-bd09-d7af504617ed",
   "metadata": {},
   "outputs": [],
   "source": []
  }
 ],
 "metadata": {
  "kernelspec": {
   "display_name": "Python 3 (ipykernel)",
   "language": "python",
   "name": "python3"
  },
  "language_info": {
   "codemirror_mode": {
    "name": "ipython",
    "version": 3
   },
   "file_extension": ".py",
   "mimetype": "text/x-python",
   "name": "python",
   "nbconvert_exporter": "python",
   "pygments_lexer": "ipython3",
   "version": "3.13.7"
  }
 },
 "nbformat": 4,
 "nbformat_minor": 5
}
